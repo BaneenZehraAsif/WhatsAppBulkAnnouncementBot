{
 "cells": [
  {
   "cell_type": "markdown",
   "id": "2f80f27e",
   "metadata": {},
   "source": [
    "# 📣 WhatsApp Bulk Announcement Bot"
   ]
  },
  {
   "cell_type": "code",
   "execution_count": null,
   "id": "1c0e802c",
   "metadata": {},
   "outputs": [],
   "source": [
    "!pip install pywhatkit pandas openpyxl"
   ]
  },
  {
   "cell_type": "code",
   "execution_count": null,
   "id": "98ee05ff",
   "metadata": {},
   "outputs": [],
   "source": [
    "import pywhatkit as kit\n",
    "import pandas as pd\n",
    "import time"
   ]
  },
  {
   "cell_type": "code",
   "execution_count": null,
   "id": "cdfb2f5e",
   "metadata": {},
   "outputs": [],
   "source": [
    "df = pd.read_excel(\"contacts.xlsx\")  # Ensure this file exists"
   ]
  },
  {
   "cell_type": "code",
   "execution_count": null,
   "id": "92c14ac9",
   "metadata": {},
   "outputs": [],
   "source": [
    "link = \"https://github.com/BaneenZehraAsif\"  # Your reference or invite link"
   ]
  },
  {
   "cell_type": "code",
   "execution_count": null,
   "id": "fffb52a3",
   "metadata": {},
   "outputs": [],
   "source": [
    "for index, row in df.iterrows():\n",
    "    phone_number = f\"+{row['PhoneNumbers']}\"\n",
    "    message = f\"\"\"📢📢 Welcome! Join now to stay updated on new data science projects.\n",
    "    Join now: {link}\"\"\"\n",
    "\n",
    "    try:\n",
    "        kit.sendwhatmsg_instantly(phone_number, message, wait_time=5)\n",
    "        print(f\"✅ Message sent to {phone_number}\")\n",
    "        time.sleep(5)\n",
    "    except Exception as e:\n",
    "        print(f\"❌ Failed to send message to {phone_number}: {e}\")"
   ]
  }
 ],
 "metadata": {},
 "nbformat": 4,
 "nbformat_minor": 5
}
